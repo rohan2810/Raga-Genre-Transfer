{
 "cells": [
  {
   "cell_type": "code",
   "execution_count": 4,
   "metadata": {},
   "outputs": [],
   "source": [
    "import json\n",
    "import shutil\n",
    "\n",
    "import numpy as np\n",
    "\n",
    "from helper_functions import *"
   ]
  },
  {
   "cell_type": "code",
   "execution_count": 5,
   "metadata": {
    "pycharm": {
     "name": "#%%\n"
    }
   },
   "outputs": [],
   "source": [
    "ROOT_PATH = 'datasets'\n",
    "CONVERTER_PATH = os.path.join(ROOT_PATH, 'bhairavi_test/converter')\n",
    "CLEANER_PATH = os.path.join(ROOT_PATH, 'bhairavi_test/cleaner')\n",
    "test_per = 0.8"
   ]
  },
  {
   "cell_type": "markdown",
   "metadata": {},
   "source": [
    "1. dividing the set into train and test"
   ]
  },
  {
   "cell_type": "code",
   "execution_count": 101,
   "metadata": {
    "pycharm": {
     "name": "#%%\n"
    }
   },
   "outputs": [
    {
     "name": "stdout",
     "output_type": "stream",
     "text": [
      "['bhairavi27.wav.mid', 'Bhairavi03.wav.mid', 'Bhairavi02.wav.mid', 'bhairavi28.wav.mid', 'Bhairavi04.wav.mid', 'Bhairavi01.midi', 'Bhairavi05.wav.mid']\n",
      "5\n"
     ]
    }
   ],
   "source": [
    "# MIDI/pop/pop_test ~ bhairavi_test\n",
    "# MIDI/pop/pop_midi ~ bhairavi\n",
    "l = [f for f in os.listdir(os.path.join(ROOT_PATH, 'bhairavi'))]\n",
    "print(l)\n",
    "idx = np.random.choice(len(l), int(test_per * len(l)), replace=False)\n",
    "print(len(idx))\n",
    "path_exists(os.path.join(ROOT_PATH, 'bhairavi_test/origin_midi'))\n",
    "for i in idx:\n",
    "    shutil.move(os.path.join(ROOT_PATH, 'bhairavi', l[i]),\n",
    "                os.path.join(ROOT_PATH, 'bhairavi_test/origin_midi', l[i]))"
   ]
  },
  {
   "cell_type": "markdown",
   "metadata": {},
   "source": [
    "------convert clean-------------"
   ]
  },
  {
   "cell_type": "code",
   "execution_count": 6,
   "metadata": {
    "pycharm": {
     "name": "#%%\n"
    }
   },
   "outputs": [
    {
     "name": "stdout",
     "output_type": "stream",
     "text": [
      "['datasets/bhairavi_test/origin_midi/bhairavi27.wav.mid', 'datasets/bhairavi_test/origin_midi/Bhairavi02.wav.mid', 'datasets/bhairavi_test/origin_midi/bhairavi28.wav.mid', 'datasets/bhairavi_test/origin_midi/Bhairavi04.wav.mid', 'datasets/bhairavi_test/origin_midi/Bhairavi01.midi']\n",
      "\n",
      "bhairavi27.wav\n",
      "{'first_beat_time': 0.023255813953488372, 'num_time_signature_change': 0, 'time_signature': None, 'tempo': 120.0}\n",
      "Multitrack(name=None, resolution=24, tempo=array(shape=(2472, 1), dtype=float64), tracks=[Track(name='Bass', program=32, is_drum=False, pianoroll=array(shape=(0, 128), dtype=float64)), Track(name='Drums', program=0, is_drum=True, pianoroll=array(shape=(0, 128), dtype=float64)), Track(name='Guitar', program=24, is_drum=False, pianoroll=array(shape=(0, 128), dtype=float64)), Track(name='Piano', program=0, is_drum=False, pianoroll=array(shape=(2472, 128), dtype=uint8)), Track(name='Strings', program=48, is_drum=False, pianoroll=array(shape=(0, 128), dtype=float64))])\n",
      "Bhairavi02.wav\n",
      "{'first_beat_time': 0.0, 'num_time_signature_change': 0, 'time_signature': None, 'tempo': 120.0}\n",
      "Multitrack(name=None, resolution=24, tempo=array(shape=(12984, 1), dtype=float64), tracks=[Track(name='Bass', program=32, is_drum=False, pianoroll=array(shape=(0, 128), dtype=float64)), Track(name='Drums', program=0, is_drum=True, pianoroll=array(shape=(0, 128), dtype=float64)), Track(name='Guitar', program=24, is_drum=False, pianoroll=array(shape=(0, 128), dtype=float64)), Track(name='Piano', program=0, is_drum=False, pianoroll=array(shape=(12984, 128), dtype=uint8)), Track(name='Strings', program=48, is_drum=False, pianoroll=array(shape=(0, 128), dtype=float64))])\n",
      "bhairavi28.wav\n",
      "{'first_beat_time': 0.7209302325581395, 'num_time_signature_change': 0, 'time_signature': None, 'tempo': 120.0}\n",
      "Multitrack(name=None, resolution=24, tempo=array(shape=(2664, 1), dtype=float64), tracks=[Track(name='Bass', program=32, is_drum=False, pianoroll=array(shape=(0, 128), dtype=float64)), Track(name='Drums', program=0, is_drum=True, pianoroll=array(shape=(0, 128), dtype=float64)), Track(name='Guitar', program=24, is_drum=False, pianoroll=array(shape=(0, 128), dtype=float64)), Track(name='Piano', program=0, is_drum=False, pianoroll=array(shape=(2664, 128), dtype=uint8)), Track(name='Strings', program=48, is_drum=False, pianoroll=array(shape=(0, 128), dtype=float64))])\n",
      "Bhairavi04.wav\n",
      "{'first_beat_time': 0.3372093023255814, 'num_time_signature_change': 0, 'time_signature': None, 'tempo': 120.0}\n",
      "Multitrack(name=None, resolution=24, tempo=array(shape=(12624, 1), dtype=float64), tracks=[Track(name='Bass', program=32, is_drum=False, pianoroll=array(shape=(0, 128), dtype=float64)), Track(name='Drums', program=0, is_drum=True, pianoroll=array(shape=(0, 128), dtype=float64)), Track(name='Guitar', program=24, is_drum=False, pianoroll=array(shape=(0, 128), dtype=float64)), Track(name='Piano', program=0, is_drum=False, pianoroll=array(shape=(12624, 128), dtype=uint8)), Track(name='Strings', program=48, is_drum=False, pianoroll=array(shape=(0, 128), dtype=float64))])\n",
      "Bhairavi01\n",
      "{'first_beat_time': 0.5, 'num_time_signature_change': 0, 'time_signature': None, 'tempo': 120.0}\n",
      "Multitrack(name=None, resolution=24, tempo=array(shape=(14088, 1), dtype=float64), tracks=[Track(name='Bass', program=32, is_drum=False, pianoroll=array(shape=(0, 128), dtype=float64)), Track(name='Drums', program=0, is_drum=True, pianoroll=array(shape=(0, 128), dtype=float64)), Track(name='Guitar', program=24, is_drum=False, pianoroll=array(shape=(0, 128), dtype=float64)), Track(name='Piano', program=0, is_drum=False, pianoroll=array(shape=(14088, 128), dtype=uint8)), Track(name='Strings', program=48, is_drum=False, pianoroll=array(shape=(0, 128), dtype=float64))])\n",
      "[['bhairavi27.wav', {'first_beat_time': 0.023255813953488372, 'num_time_signature_change': 0, 'time_signature': None, 'tempo': 120.0}], ['Bhairavi02.wav', {'first_beat_time': 0.0, 'num_time_signature_change': 0, 'time_signature': None, 'tempo': 120.0}], ['bhairavi28.wav', {'first_beat_time': 0.7209302325581395, 'num_time_signature_change': 0, 'time_signature': None, 'tempo': 120.0}], ['Bhairavi04.wav', {'first_beat_time': 0.3372093023255814, 'num_time_signature_change': 0, 'time_signature': None, 'tempo': 120.0}], ['Bhairavi01', {'first_beat_time': 0.5, 'num_time_signature_change': 0, 'time_signature': None, 'tempo': 120.0}]]\n",
      "[Done] 5 files out of 5 have been successfully converted\n",
      "{'Bhairavi02.wav': {'first_beat_time': 0.0, 'num_time_signature_change': 0, 'time_signature': None, 'tempo': 120.0}}\n",
      "[Done] 1 files out of 5 have been successfully cleaned\n"
     ]
    }
   ],
   "source": [
    "midi_paths = get_midi_path(os.path.join(ROOT_PATH, 'bhairavi_test/origin_midi'))\n",
    "midi_dict = {}\n",
    "print(midi_paths)\n",
    "print()\n",
    "kv_pairs = [convert_midi_to_pianoroll(midi_path) for midi_path in midi_paths]\n",
    "for kv_pair in kv_pairs:\n",
    "    if kv_pair is not None:\n",
    "        midi_dict[kv_pair[0]] = kv_pair[1]\n",
    "print(kv_pairs)\n",
    "with open(os.path.join(ROOT_PATH, 'bhairavi_test/midis.json'), 'w') as outfile:\n",
    "    json.dump(midi_dict, outfile)\n",
    "\n",
    "print(\"[Done] {} files out of {} have been successfully converted\".format(len(midi_dict), len(midi_paths)))\n",
    "\n",
    "with open(os.path.join(ROOT_PATH, 'bhairavi_test/midis.json')) as infile:\n",
    "    midi_dict = json.load(infile)\n",
    "    \n",
    "count = 0\n",
    "path_exists(CLEANER_PATH)\n",
    "midi_dict_clean = {}\n",
    "for key in midi_dict:\n",
    "    if midi_filter(midi_dict[key]):\n",
    "        midi_dict_clean[key] = midi_dict[key]\n",
    "        count += 1\n",
    "        shutil.copyfile(os.path.join(CONVERTER_PATH, key + '.npz'),\n",
    "                            os.path.join(CLEANER_PATH, key + '.npz'))\n",
    "\n",
    "print(midi_dict_clean)\n",
    "\n",
    "with open(os.path.join(ROOT_PATH, 'bhairavi_test/midis_clean.json'), 'w') as outfile:\n",
    "    json.dump(midi_dict_clean, outfile)\n",
    "\n",
    "print(\"[Done] {} files out of {} have been successfully cleaned\".format(count, len(midi_dict)))"
   ]
  },
  {
   "cell_type": "markdown",
   "metadata": {},
   "source": [
    "------- choose the clean midi from the original sets ----------"
   ]
  },
  {
   "cell_type": "code",
   "execution_count": 17,
   "metadata": {
    "pycharm": {
     "name": "#%%\n"
    }
   },
   "outputs": [
    {
     "name": "stdout",
     "output_type": "stream",
     "text": [
      "[]\n",
      "0\n"
     ]
    }
   ],
   "source": [
    "if not os.path.exists(os.path.join(ROOT_PATH, 'bhairavi_test/cleaner_midi')):\n",
    "    os.makedirs(os.path.join(ROOT_PATH, 'bhairavi_test/cleaner_midi'))\n",
    "l = [f for f in os.listdir(os.path.join(ROOT_PATH, 'bhairavi_test/cleaner'))]\n",
    "print(l)\n",
    "print(len(l))\n",
    "for i in l:\n",
    "    shutil.copy(os.path.join(ROOT_PATH, 'bhairavi_test/origin_midi', os.path.splitext(i)[0] + '.mid'),\n",
    "                os.path.join(ROOT_PATH, 'bhairavi_test/cleaner_midi', os.path.splitext(i)[0] + '.mid'))"
   ]
  },
  {
   "cell_type": "markdown",
   "metadata": {},
   "source": [
    "--------- merge and crop --------------"
   ]
  },
  {
   "cell_type": "code",
   "execution_count": 18,
   "metadata": {
    "pycharm": {
     "name": "#%%\n"
    }
   },
   "outputs": [
    {
     "name": "stdout",
     "output_type": "stream",
     "text": [
      "[]\n"
     ]
    }
   ],
   "source": [
    "if not os.path.exists(os.path.join(ROOT_PATH, 'bhairavi_test/cleaner_midi_gen')):\n",
    "    os.makedirs(os.path.join(ROOT_PATH, 'bhairavi_test/cleaner_midi_gen'))\n",
    "if not os.path.exists(os.path.join(ROOT_PATH, 'bhairavi_test/cleaner_npy')):\n",
    "    os.makedirs(os.path.join(ROOT_PATH, 'bhairavi_test/cleaner_npy'))\n",
    "l = [f for f in os.listdir(os.path.join(ROOT_PATH, 'bhairavi_test/cleaner_midi'))]\n",
    "print(l)\n",
    "count = 0\n",
    "for i in range(len(l)):\n",
    "    try:\n",
    "#         multitrack = Multitrack(resolution=4, name=os.path.splitext(l[i])[0])\n",
    "#         x = pretty_midi.PrettyMIDI(os.path.join(ROOT_PATH, 'bhairavi_test/cleaner_midi', l[i]))\n",
    "#         multitrack.parse_pretty_midi(x)\n",
    "\n",
    "#         category_list = {'Piano': [], 'Drums': []}\n",
    "#         program_dict = {'Piano': 0, 'Drums': 0}\n",
    "\n",
    "#         for idx, track in enumerate(multitrack.tracks):\n",
    "#             if track.is_drum:\n",
    "#                 category_list['Drums'].append(idx)\n",
    "#             else:\n",
    "#                 category_list['Piano'].append(idx)\n",
    "#         tracks = []\n",
    "#         merged = multitrack[category_list['Piano']].get_merged_pianoroll()\n",
    "#         print(merged.shape)\n",
    "\n",
    "#         pr = get_bar_piano_roll(merged)\n",
    "#         print(pr.shape)\n",
    "#         pr_clip = pr[:, :, 24:108]\n",
    "#         print(pr_clip.shape)\n",
    "#         if int(pr_clip.shape[0] % 4) != 0:\n",
    "#             pr_clip = np.delete(pr_clip, np.s_[-int(pr_clip.shape[0] % 4):], axis=0)\n",
    "#         pr_re = pr_clip.reshape(-1, 64, 84, 1)\n",
    "#         print(pr_re.shape)\n",
    "#         save_midis(pr_re, os.path.join(ROOT_PATH, 'bhairavi_test/cleaner_midi_gen', os.path.splitext(l[i])[0] +\n",
    "#                                        '.mid'))\n",
    "#         np.save(os.path.join(ROOT_PATH, 'bhairavi_test/cleaner_npy', os.path.splitext(l[i])[0] + '.npy'), pr_re)\n",
    "#     except:\n",
    "#         count += 1\n",
    "#         print('Wrong', l[i])\n",
    "#         continue\n",
    "# print(count)"
   ]
  },
  {
   "cell_type": "code",
   "execution_count": null,
   "metadata": {},
   "outputs": [],
   "source": []
  }
 ],
 "metadata": {
  "kernelspec": {
   "display_name": "Python 3",
   "language": "python",
   "name": "python3"
  },
  "language_info": {
   "codemirror_mode": {
    "name": "ipython",
    "version": 3
   },
   "file_extension": ".py",
   "mimetype": "text/x-python",
   "name": "python",
   "nbconvert_exporter": "python",
   "pygments_lexer": "ipython3",
   "version": "3.8.5"
  }
 },
 "nbformat": 4,
 "nbformat_minor": 1
}