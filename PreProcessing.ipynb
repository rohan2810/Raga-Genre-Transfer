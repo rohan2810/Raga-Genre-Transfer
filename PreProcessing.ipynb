{
 "cells": [
  {
   "cell_type": "code",
   "execution_count": 45,
   "metadata": {},
   "outputs": [],
   "source": [
    "import json\n",
    "import shutil\n",
    "\n",
    "import numpy as np\n",
    "\n",
    "from helper_functions import *\n"
   ]
  },
  {
   "cell_type": "code",
   "execution_count": 46,
   "metadata": {
    "pycharm": {
     "name": "#%%\n"
    }
   },
   "outputs": [],
   "source": [
    "ROOT_PATH = 'datasets'\n",
    "CONVERTER_PATH = os.path.join(ROOT_PATH, 'bhairavi_test/converter')\n",
    "CLEANER_PATH = os.path.join(ROOT_PATH, 'bhairavi_test/cleaner')\n",
    "test_per = 0.2"
   ]
  },
  {
   "cell_type": "markdown",
   "metadata": {},
   "source": [
    "1. dividing the set into train and test"
   ]
  },
  {
   "cell_type": "code",
   "execution_count": 38,
   "metadata": {
    "pycharm": {
     "name": "#%%\n"
    }
   },
   "outputs": [],
   "source": [
    "l = [f for f in os.listdir(os.path.join(ROOT_PATH, 'bhairavi'))]\n",
    "print(l)\n",
    "idx = np.random.choice(len(l), int(test_per * len(l)), replace=False)\n",
    "print(len(idx))\n",
    "path_exists(os.path.join(ROOT_PATH, 'bhairavi_test'))\n",
    "for i in idx:\n",
    "    shutil.move(os.path.join(ROOT_PATH, 'bhairavi', l[i]),\n",
    "                os.path.join(ROOT_PATH, 'bhairavi_test', l[i]))"
   ]
  },
  {
   "cell_type": "markdown",
   "source": [
    "------convert clean-------------"
   ],
   "metadata": {
    "collapsed": false
   }
  },
  {
   "cell_type": "code",
   "execution_count": 47,
   "metadata": {
    "pycharm": {
     "name": "#%%\n"
    }
   },
   "outputs": [
    {
     "name": "stdout",
     "output_type": "stream",
     "text": [
      "[None]\n",
      "[Done] 0 files out of 1 have been successfully converted\n",
      "[Done] 0 files out of 0 have been successfully cleaned\n"
     ]
    }
   ],
   "source": [
    "midi_paths = get_midi_path(os.path.join(ROOT_PATH, 'bhairavi_test'))\n",
    "midi_dict = {}\n",
    "kv_pairs = [convert_midi_to_pianoroll(midi_path) for midi_path in midi_paths]\n",
    "for kv_pair in kv_pairs:\n",
    "    if kv_pair is not None:\n",
    "        midi_dict[kv_pair[0]] = kv_pair[1]\n",
    "\n",
    "print(kv_pairs)\n",
    "with open(os.path.join(ROOT_PATH, 'bhairavi_test/midis.json'), 'w') as outfile:\n",
    "    json.dump(midi_dict, outfile)\n",
    "\n",
    "print(\"[Done] {} files out of {} have been successfully converted\".format(len(midi_dict), len(midi_paths)))\n",
    "\n",
    "with open(os.path.join(ROOT_PATH, 'bhairavi_test/midis.json')) as infile:\n",
    "    midi_dict = json.load(infile)\n",
    "count = 0\n",
    "path_exists(CLEANER_PATH)\n",
    "midi_dict_clean = {}\n",
    "for key in midi_dict:\n",
    "    if midi_filter(midi_dict[key]):\n",
    "        midi_dict_clean[key] = midi_dict[key]\n",
    "        count += 1\n",
    "        shutil.copyfile(os.path.join(CONVERTER_PATH, key + '.npz'),\n",
    "                            os.path.join(CLEANER_PATH, key + '.npz'))\n",
    "\n",
    "with open(os.path.join(ROOT_PATH, 'bhairavi_test/midis_clean.json'), 'w') as outfile:\n",
    "    json.dump(midi_dict_clean, outfile)\n",
    "\n",
    "print(\"[Done] {} files out of {} have been successfully cleaned\".format(count, len(midi_dict)))"
   ]
  },
  {
   "cell_type": "markdown",
   "source": [
    "------- choose the clean midi from the original sets ----------"
   ],
   "metadata": {
    "collapsed": false
   }
  },
  {
   "cell_type": "code",
   "execution_count": null,
   "outputs": [],
   "source": [],
   "metadata": {
    "collapsed": false,
    "pycharm": {
     "name": "#%%\n"
    }
   }
  }
 ],
 "metadata": {
  "kernelspec": {
   "display_name": "Python 3",
   "language": "python",
   "name": "python3"
  },
  "language_info": {
   "codemirror_mode": {
    "name": "ipython",
    "version": 3
   },
   "file_extension": ".py",
   "mimetype": "text/x-python",
   "name": "python",
   "nbconvert_exporter": "python",
   "pygments_lexer": "ipython3",
   "version": "3.8.5"
  }
 },
 "nbformat": 4,
 "nbformat_minor": 1
}