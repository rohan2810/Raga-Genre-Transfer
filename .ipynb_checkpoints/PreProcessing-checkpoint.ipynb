{
 "cells": [
  {
   "cell_type": "code",
   "execution_count": 35,
   "metadata": {},
   "outputs": [],
   "source": [
    "import errno\n",
    "import os\n",
    "import shutil\n",
    "\n",
    "import numpy as np\n",
    "import pretty_midi\n",
    "from pypianoroll import Multitrack, Track\n"
   ]
  },
  {
   "cell_type": "code",
   "execution_count": 36,
   "metadata": {
    "pycharm": {
     "name": "#%%\n"
    }
   },
   "outputs": [],
   "source": [
    "ROOT_PATH = 'datasets'\n",
    "CONVERTER_PATH = os.path.join(ROOT_PATH, 'bhairavi_test/converter')\n",
    "CLEANER_PATH = os.path.join(ROOT_PATH, 'bhairavi_test/cleaner')\n",
    "test_per = 0.2"
   ]
  },
  {
   "cell_type": "code",
   "execution_count": 37,
   "metadata": {
    "pycharm": {
     "name": "#%%\n"
    }
   },
   "outputs": [],
   "source": [
    "\n",
    "# helper functions\n",
    "\n",
    "# return a list of path of midi files in the given path\n",
    "def get_midi_path(path):\n",
    "    paths = []\n",
    "    for dirpath, _, filenames in os.walk(path):\n",
    "        for filename in filenames:\n",
    "            if filename.endswith('.mid') or filename.endswith('.midi'):\n",
    "                paths.append(os.path.join(dirpath, filename))\n",
    "    return paths\n",
    "\n",
    "\n",
    "# extract information from the given midi file\n",
    "def get_midi_info(pm):\n",
    "    if pm.time_signature_changes:\n",
    "        pm.time_signature_changes.sort(key=lambda x: x.time)\n",
    "        first_beat_time = pm.time_signature_changes[0].time\n",
    "    else:\n",
    "        first_beat_time = pm.estimate_beat_start()\n",
    "\n",
    "    tc_times, tempi = pm.get_tempo_changes()\n",
    "\n",
    "    if len(pm.time_signature_changes) == 1:\n",
    "        time_sign = '{}/{}'.format(pm.time_signature_changes[0].numerator,\n",
    "                                   pm.time_signature_changes[0].denominator)\n",
    "    else:\n",
    "        time_sign = None\n",
    "\n",
    "    midi_info = {\n",
    "        'first_beat_time': first_beat_time,\n",
    "        'num_time_signature_change': len(pm.time_signature_changes),\n",
    "        'time_signature': time_sign,\n",
    "        'tempo': tempi[0] if len(tc_times) == 1 else None\n",
    "    }\n",
    "\n",
    "    return midi_info\n",
    "\n",
    "\n",
    "# check this\n",
    "def get_merged(multitrack):\n",
    "    \"\"\"Return a `pypianoroll.Multitrack` instance with piano-rolls merged to\n",
    "    five tracks (Bass, Drums, Guitar, Piano and Strings)\"\"\"\n",
    "    category_list = {'Bass': [], 'Drums': [], 'Guitar': [], 'Piano': [], 'Strings': []}\n",
    "    program_dict = {'Piano': 0, 'Drums': 0, 'Guitar': 24, 'Bass': 32, 'Strings': 48}\n",
    "\n",
    "    for idx, track in enumerate(multitrack.tracks):\n",
    "        if track.is_drum:\n",
    "            category_list['Drums'].append(idx)\n",
    "        elif track.program // 8 == 0:\n",
    "            category_list['Piano'].append(idx)\n",
    "        elif track.program // 8 == 3:\n",
    "            category_list['Guitar'].append(idx)\n",
    "        elif track.program // 8 == 4:\n",
    "            category_list['Bass'].append(idx)\n",
    "        else:\n",
    "            category_list['Strings'].append(idx)\n",
    "\n",
    "    tracks = []\n",
    "    for key in category_list:\n",
    "        if category_list[key]:\n",
    "            merged = multitrack[category_list[key]].get_merged_pianoroll()\n",
    "            tracks.append(Track(merged, program_dict[key], key == 'Drums', key))\n",
    "        else:\n",
    "            tracks.append(Track(None, program_dict[key], key == 'Drums', key))\n",
    "    return Multitrack(None, tracks, multitrack.tempo, multitrack.downbeat, multitrack.beat_resolution, multitrack.name)\n",
    "\n",
    "\n",
    "def path_exists(path):\n",
    "    try:\n",
    "        os.makedirs(path)\n",
    "    except OSError as exception:\n",
    "        if exception.errno != errno.EEXIST:\n",
    "            raise\n",
    "\n",
    "\n",
    "# convert midi file to multi-track piano-roll and save to a particular dataset directory\n",
    "def convert_midi_to_pianoroll(path):\n",
    "    try:\n",
    "        midi_name = os.path.splitext(os.path.basename(path))[0]\n",
    "        print('midi name')\n",
    "        print(midi_name)\n",
    "        multitrack = Multitrack(resolution=24, name=midi_name)\n",
    "        print('hello')\n",
    "        print('multitrack')\n",
    "        print(multitrack)\n",
    "        pm = pretty_midi.PrettyMIDI(path)\n",
    "        midi_info = get_midi_info(pm)\n",
    "        print('info')\n",
    "        print(midi_info)\n",
    "        print(multitrack.parse_pretty_midi(pm))\n",
    "        merged = get_merged(multitrack)\n",
    "        print('merger')\n",
    "        print(merged)\n",
    "\n",
    "    \n",
    "        path_exists(CONVERTER_PATH)\n",
    "        merged.save(os.path.join(CONVERTER_PATH, midi_name + '.npz'))\n",
    "        return [midi_name, midi_info]\n",
    "\n",
    "    except:\n",
    "        return None\n",
    "\n",
    "\n",
    "def midi_filter(midi_info):\n",
    "    if midi_info['first_beat_time'] > 0.0:\n",
    "        return False\n",
    "    elif midi_info['num_time_signature_change'] > 1:\n",
    "        return False\n",
    "    elif midi_info['time_signature'] not in ['4/4']:\n",
    "        return False\n",
    "    return True"
   ]
  },
  {
   "cell_type": "markdown",
   "metadata": {},
   "source": [
    "1. dividing the set into train and test"
   ]
  },
  {
   "cell_type": "code",
   "execution_count": 38,
   "metadata": {
    "pycharm": {
     "name": "#%%\n"
    }
   },
   "outputs": [],
   "source": [
    "# l = [f for f in os.listdir(os.path.join(ROOT_PATH, 'bhairavi'))]\n",
    "# print(l)\n",
    "# idx = np.random.choice(len(l), int(test_per * len(l)), replace=False)\n",
    "# print(len(idx))\n",
    "# path_exists(os.path.join(ROOT_PATH, 'bhairavi_test'))\n",
    "# for i in idx:\n",
    "#     shutil.move(os.path.join(ROOT_PATH, 'bhairavi', l[i]),\n",
    "#                 os.path.join(ROOT_PATH, 'bhairavi_test', l[i]))"
   ]
  },
  {
   "cell_type": "code",
   "execution_count": 39,
   "metadata": {
    "pycharm": {
     "name": "#%%\n"
    }
   },
   "outputs": [
    {
     "name": "stdout",
     "output_type": "stream",
     "text": [
      "midi name\n",
      "Bhairavi02.wav\n",
      "hello\n",
      "multitrack\n",
      "Multitrack(name='Bhairavi02.wav', resolution=24, tracks=[])\n",
      "info\n",
      "{'first_beat_time': 0.0, 'num_time_signature_change': 0, 'time_signature': None, 'tempo': 120.0}\n"
     ]
    }
   ],
   "source": [
    "midi_paths = get_midi_path(os.path.join(ROOT_PATH, 'bhairavi_test'))\n",
    "midi_dict = {}\n",
    "kv_pairs = [convert_midi_to_pianoroll(midi_path) for midi_path in midi_paths]\n",
    "for kv_pair in kv_pairs:\n",
    "    if kv_pair is not None:\n",
    "        midi_dict[kv_pair[0]] = kv_pair[1]\n",
    "\n",
    "# print(kv_pairs)\n",
    "# with open(os.path.join(ROOT_PATH, 'bhairavi_test/midis.json'), 'w') as outfile:\n",
    "#     json.dump(midi_dict, outfile)\n",
    "\n",
    "# print(\"[Done] {} files out of {} have been successfully converted\".format(len(midi_dict), len(midi_paths)))\n",
    "\n",
    "# with open(os.path.join(ROOT_PATH, 'bhairavi_test/midis.json')) as infile:\n",
    "#     midi_dict = json.load(infile)\n",
    "# count = 0\n",
    "# path_exists(CLEANER_PATH)\n",
    "# midi_dict_clean = {}\n",
    "# for key in midi_dict:\n",
    "#     if midi_filter(midi_dict[key]):\n",
    "#         midi_dict_clean[key] = midi_dict[key]\n",
    "#         count += 1\n",
    "#         shutil.copyfile(os.path.join(CONVERTER_PATH, key + '.npz'),\n",
    "#                             os.path.join(CLEANER_PATH, key + '.npz'))\n",
    "\n",
    "# with open(os.path.join(ROOT_PATH, 'bhairavi_test/midis_clean.json'), 'w') as outfile:\n",
    "#     json.dump(midi_dict_clean, outfile)\n",
    "\n",
    "# print(\"[Done] {} files out of {} have been successfully cleaned\".format(count, len(midi_dict)))\n"
   ]
  },
  {
   "cell_type": "code",
   "execution_count": null,
   "metadata": {},
   "outputs": [],
   "source": []
  }
 ],
 "metadata": {
  "kernelspec": {
   "display_name": "Python 3",
   "language": "python",
   "name": "python3"
  },
  "language_info": {
   "codemirror_mode": {
    "name": "ipython",
    "version": 3
   },
   "file_extension": ".py",
   "mimetype": "text/x-python",
   "name": "python",
   "nbconvert_exporter": "python",
   "pygments_lexer": "ipython3",
   "version": "3.8.5"
  }
 },
 "nbformat": 4,
 "nbformat_minor": 1
}
